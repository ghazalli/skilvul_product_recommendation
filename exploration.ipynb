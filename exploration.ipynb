{
 "cells": [
  {
   "cell_type": "markdown",
   "metadata": {},
   "source": [
    "# Case Study: Predictive Analytics for E-commerce"
   ]
  },
  {
   "cell_type": "code",
   "execution_count": 1,
   "metadata": {},
   "outputs": [],
   "source": [
    "import random\n",
    "from sklearn.metrics.pairwise import cosine_similarity\n",
    "import numpy as np\n",
    "from sklearn.metrics import precision_score, recall_score, f1_score\n",
    "import pandas as pd"
   ]
  },
  {
   "cell_type": "code",
   "execution_count": 2,
   "metadata": {},
   "outputs": [],
   "source": [
    "num_items = 50\n",
    "categories = ['Electronics', 'Electronics', 'Clothing', 'Home & Kitchen', 'Beauty'] * 10\n",
    "\n",
    "# Ensure the categories list is long enough\n",
    "categories = (categories * ((num_items // len(categories)) + 1))[:num_items]\n",
    "\n",
    "# Generate a range of dates and repeat it enough times to cover num_items\n",
    "purchase_dates = [f\"2023-01-{d:02d}\" for d in range(1, 32)]\n",
    "# Repeat dates to ensure enough entries\n",
    "purchase_dates = (purchase_dates * ((num_items // len(purchase_dates)) + 1))[:num_items]\n",
    "# Shuffle dates to simulate randomness\n",
    "random.shuffle(purchase_dates)\n",
    "\n",
    "data = {\n",
    "    'customer_id': range(1, num_items + 1),\n",
    "    'product_id': random.sample([prod for prod in range(100, 150)] + list(range(100, 110)), num_items),\n",
    "    'purchase_date': purchase_dates,\n",
    "    'category': random.choices(categories, k=num_items),  # Use random.choices with replacement\n",
    "    'price': [random.randint(20, 1000) for _ in range(num_items)],\n",
    "    'ratings': [round(random.uniform(3.5, 5.0), 1) for _ in range(num_items)],\n",
    "    'page_views': [random.randint(10, 50) for _ in range(num_items)],\n",
    "    'time_spent': [random.randint(60, 240) for _ in range(num_items)]\n",
    "}\n",
    "\n",
    "df = pd.DataFrame(data)"
   ]
  },
  {
   "cell_type": "code",
   "execution_count": 3,
   "metadata": {},
   "outputs": [
    {
     "name": "stdout",
     "output_type": "stream",
     "text": [
      "Recommended products for customer 40: [129, 130, 131, 133, 134]\n",
      "Average Precision: 0.0\n",
      "Average Recall: 0.0\n",
      "Average F1-Score: 0.0\n"
     ]
    }
   ],
   "source": [
    "# df['purchase_date'] = pd.to_datetime(df['purchase_date'])\n",
    "\n",
    "# def calculate_rfm(df):\n",
    "#     # Current date\n",
    "#     current_date = df['purchase_date'].max() + pd.Timedelta(days=1)\n",
    "    \n",
    "#     # RFM Calculation\n",
    "#     rfm = df.groupby('customer_id').agg({\n",
    "#         'purchase_date': lambda x: (current_date - x.max()).days,\n",
    "#         'product_id': 'count',\n",
    "#         'price': 'sum'\n",
    "#     }).rename(columns={\n",
    "#         'purchase_date': 'Recency',\n",
    "#         'product_id': 'Frequency',\n",
    "#         'price': 'Monetary'\n",
    "#     }).reset_index()\n",
    "    \n",
    "#     return rfm\n",
    "\n",
    "# def compute_cosine_similarity(rfm):\n",
    "#     rfm_matrix = rfm[['Recency', 'Frequency', 'Monetary']]\n",
    "#     cosine_sim = cosine_similarity(rfm_matrix)\n",
    "#     cosine_sim_df = pd.DataFrame(cosine_sim, index=rfm['customer_id'], columns=rfm['customer_id'])\n",
    "#     return cosine_sim_df\n",
    "\n",
    "# def recommend_products(customer_id, df, cosine_sim_df, top_n=3):\n",
    "#     similar_customers = cosine_sim_df[customer_id].sort_values(ascending=False).index[1:]\n",
    "    \n",
    "#     recommended_products = []\n",
    "#     for similar_customer in similar_customers:\n",
    "#         products = df[df['customer_id'] == similar_customer]['product_id'].values\n",
    "#         recommended_products.extend(products)\n",
    "    \n",
    "#     recommended_products = list(set(recommended_products) - set(df[df['customer_id'] == customer_id]['product_id'].values))\n",
    "#     return recommended_products[:top_n]\n",
    "\n",
    "# # Evaluate Recommendations\n",
    "# def evaluate_recommendations(df, customer_id, recommended_products):\n",
    "#     actual_products = df[df['customer_id'] == customer_id]['product_id'].unique()\n",
    "#     all_products = set(df['product_id'].unique())\n",
    "#     actual_binary = [1 if product in actual_products else 0 for product in all_products]\n",
    "#     recommended_binary = [1 if product in recommended_products else 0 for product in all_products]\n",
    "#     precision = precision_score(actual_binary, recommended_binary)\n",
    "#     recall = recall_score(actual_binary, recommended_binary)\n",
    "#     f1 = f1_score(actual_binary, recommended_binary)\n",
    "#     return precision, recall, f1\n",
    "\n",
    "# # Evaluate System\n",
    "# def evaluate_system(df, cosine_sim_df, top_n=3):\n",
    "#     precision_list = []\n",
    "#     recall_list = []\n",
    "#     f1_list = []\n",
    "#     customer_ids = df['customer_id'].unique()\n",
    "#     for customer_id in customer_ids:\n",
    "#         recommended_products = recommend_products(customer_id, df, cosine_sim_df, top_n)\n",
    "#         precision, recall, f1 = evaluate_recommendations(df, customer_id, recommended_products)\n",
    "#         precision_list.append(precision)\n",
    "#         recall_list.append(recall)\n",
    "#         f1_list.append(f1)\n",
    "#     avg_precision = np.mean(precision_list)\n",
    "#     avg_recall = np.mean(recall_list)\n",
    "#     avg_f1 = np.mean(f1_list)\n",
    "#     return avg_precision, avg_recall, avg_f1\n",
    "\n",
    "# # Calculate RFM\n",
    "# rfm = calculate_rfm(df)\n",
    "\n",
    "# # Compute Cosine Similarity\n",
    "# cosine_sim_df = compute_cosine_similarity(rfm)\n",
    "\n",
    "# # Recommend products for a given customer\n",
    "# customer_id = 40\n",
    "# top_n = 5\n",
    "# recommended_products = recommend_products(customer_id, df, cosine_sim_df, top_n)\n",
    "# avg_precision, avg_recall, avg_f1 = evaluate_system(df, cosine_sim_df, top_n=3)\n",
    "\n",
    "# print(f\"Recommended products for customer {customer_id}: {recommended_products}\")\n",
    "# print(f\"Average Precision: {avg_precision}\")\n",
    "# print(f\"Average Recall: {avg_recall}\")\n",
    "# print(f\"Average F1-Score: {avg_f1}\")"
   ]
  },
  {
   "cell_type": "code",
   "execution_count": 10,
   "metadata": {},
   "outputs": [
    {
     "name": "stdout",
     "output_type": "stream",
     "text": [
      "Recommended products for customer 1: [128, 129, 130, 131, 133, 134, 135, 136, 137, 139, 140, 141, 142, 144, 145, 146, 147, 148, 149, 100]\n"
     ]
    }
   ],
   "source": [
    "df = pd.DataFrame(df)\n",
    "df['purchase_date'] = pd.to_datetime(df['purchase_date'])\n",
    "\n",
    "def calculate_rfm(df):\n",
    "    # Current date\n",
    "    current_date = df['purchase_date'].max() + pd.Timedelta(days=1)\n",
    "    \n",
    "    # RFM Calculation\n",
    "    rfm = df.groupby('customer_id').agg({\n",
    "        'purchase_date': lambda x: (current_date - x.max()).days,\n",
    "        'product_id': 'count',\n",
    "        'price': 'sum'\n",
    "    }).rename(columns={\n",
    "        'purchase_date': 'Recency',\n",
    "        'product_id': 'Frequency',\n",
    "        'price': 'Monetary'\n",
    "    }).reset_index()\n",
    "    \n",
    "    return rfm\n",
    "\n",
    "def compute_cosine_similarity(rfm):\n",
    "    rfm_matrix = rfm[['Recency', 'Frequency', 'Monetary']]\n",
    "    cosine_sim = cosine_similarity(rfm_matrix)\n",
    "    cosine_sim_df = pd.DataFrame(cosine_sim, index=rfm['customer_id'], columns=rfm['customer_id'])\n",
    "    return cosine_sim_df\n",
    "\n",
    "def recommend_products(customer_id, df, cosine_sim_df, top_n=3):\n",
    "    similar_customers = cosine_sim_df[customer_id].sort_values(ascending=False).index[1:]\n",
    "    \n",
    "    recommended_products = []\n",
    "    for similar_customer in similar_customers:\n",
    "        products = df[df['customer_id'] == similar_customer]['product_id'].values\n",
    "        recommended_products.extend(products)\n",
    "    \n",
    "    recommended_products = list(set(recommended_products) - set(df[df['customer_id'] == customer_id]['product_id'].values))\n",
    "    return recommended_products[:top_n]\n",
    "\n",
    "\n",
    "\n",
    "# Calculate RFM\n",
    "rfm = calculate_rfm(df)\n",
    "\n",
    "# Compute Cosine Similarity\n",
    "cosine_sim_df = compute_cosine_similarity(rfm)\n",
    "\n",
    "# Recommend products for a given customer\n",
    "customer_id = 1\n",
    "top_n = 20\n",
    "recommended_products = recommend_products(customer_id, df, cosine_sim_df, top_n)\n",
    "print(f\"Recommended products for customer {customer_id}: {recommended_products}\")\n"
   ]
  },
  {
   "cell_type": "code",
   "execution_count": 8,
   "metadata": {},
   "outputs": [
    {
     "name": "stdout",
     "output_type": "stream",
     "text": [
      "The cosine similarity is: 0.34\n"
     ]
    }
   ],
   "source": [
    "import numpy as np\n",
    "from numpy.linalg import norm \n",
    "\n",
    "A = np.array([1,8])\n",
    "B = np.array([9,2])\n",
    "\n",
    "cos_sim = np.dot(A,B)/(norm(A)*norm(B))\n",
    "print(f\"The cosine similarity is: {round(cos_sim,2)}\")"
   ]
  },
  {
   "cell_type": "code",
   "execution_count": 9,
   "metadata": {},
   "outputs": [
    {
     "name": "stdout",
     "output_type": "stream",
     "text": [
      "The cosine similarity is: [[0.3363364]]\n"
     ]
    }
   ],
   "source": [
    "from sklearn.metrics.pairwise import cosine_similarity\n",
    "\n",
    "cos_sim = cosine_similarity(A.reshape(1, -1),B.reshape(1, -1))\n",
    "print(f\"The cosine similarity is: {cos_sim}\")"
   ]
  },
  {
   "cell_type": "code",
   "execution_count": null,
   "metadata": {},
   "outputs": [],
   "source": []
  }
 ],
 "metadata": {
  "kernelspec": {
   "display_name": "skilvul_env",
   "language": "python",
   "name": "python3"
  },
  "language_info": {
   "codemirror_mode": {
    "name": "ipython",
    "version": 3
   },
   "file_extension": ".py",
   "mimetype": "text/x-python",
   "name": "python",
   "nbconvert_exporter": "python",
   "pygments_lexer": "ipython3",
   "version": "3.11.9"
  }
 },
 "nbformat": 4,
 "nbformat_minor": 2
}
